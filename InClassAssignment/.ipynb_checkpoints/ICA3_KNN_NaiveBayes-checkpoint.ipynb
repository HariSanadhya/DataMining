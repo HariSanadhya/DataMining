{
 "cells": [
  {
   "cell_type": "code",
   "execution_count": 26,
   "metadata": {},
   "outputs": [
    {
     "data": {
      "text/html": [
       "<link href='https://fonts.googleapis.com/css?family=Passion+One' rel='stylesheet' type='text/css'><style>div.attn { font-family: 'Helvetica Neue'; font-size: 30px; line-height: 40px; color: #FFFFFF; text-align: center; margin: 30px 0; border-width: 10px 0; border-style: solid; border-color: #5AAAAA; padding: 30px 0; background-color: #DDDDFF; }hr { border: 0; background-color: #ffffff; border-top: 1px solid black; }hr.major { border-top: 10px solid #5AAA5A; }hr.minor { border: none; background-color: #ffffff; border-top: 5px dotted #CC3333; }div.bubble { width: 65%; padding: 20px; background: #DDDDDD; border-radius: 15px; margin: 0 auto; font-style: italic; color: #f00; }em { color: #AAA; }div.c1{visibility:hidden;margin:0;height:0;}div.note{color:red;}</style>"
      ],
      "text/plain": [
       "<IPython.core.display.HTML object>"
      ]
     },
     "execution_count": 26,
     "metadata": {},
     "output_type": "execute_result"
    }
   ],
   "source": [
    "#  Ebnable HTML/CSS \n",
    "from IPython.core.display import HTML\n",
    "HTML(\"<link href='https://fonts.googleapis.com/css?family=Passion+One' rel='stylesheet' type='text/css'><style>div.attn { font-family: 'Helvetica Neue'; font-size: 30px; line-height: 40px; color: #FFFFFF; text-align: center; margin: 30px 0; border-width: 10px 0; border-style: solid; border-color: #5AAAAA; padding: 30px 0; background-color: #DDDDFF; }hr { border: 0; background-color: #ffffff; border-top: 1px solid black; }hr.major { border-top: 10px solid #5AAA5A; }hr.minor { border: none; background-color: #ffffff; border-top: 5px dotted #CC3333; }div.bubble { width: 65%; padding: 20px; background: #DDDDDD; border-radius: 15px; margin: 0 auto; font-style: italic; color: #f00; }em { color: #AAA; }div.c1{visibility:hidden;margin:0;height:0;}div.note{color:red;}</style>\")"
   ]
  },
  {
   "cell_type": "markdown",
   "metadata": {},
   "source": [
    "___\n",
    "Enter Team Member Names here (double click to edit):\n",
    "\n",
    "- Hari Sanadhya\n",
    "- Mustafa Sakarwala\n",
    "- Alfeo Sabay\n",
    "\n",
    "________\n",
    "\n",
    "# In Class Assignment Three\n",
    "In the following assignment you will be asked to fill in python code and derivations for a number of different problems. Please read all instructions carefully and turn in the rendered notebook (or HTML of the rendered notebook)  before the end of class.\n",
    "\n",
    "<a id=\"top\"></a>\n",
    "## Contents\n",
    "* <a href=\"#Loading\">Loading the Data</a>\n",
    "* <a href=\"#distance\">Measuring Distances</a>\n",
    "* <a href=\"#KNN\">K-Nearest Neighbors</a>\n",
    "* <a href=\"#naive\">Naive Bayes</a>\n",
    "\n",
    "________________________________________________________________________________________________________\n",
    "<a id=\"Loading\"></a>\n",
    "<a href=\"#top\">Back to Top</a>\n",
    "## Downloading the Document Data\n",
    "Please run the following code to read in the \"20 newsgroups\" dataset from sklearn's data loading module."
   ]
  },
  {
   "cell_type": "code",
   "execution_count": 2,
   "metadata": {
    "scrolled": true
   },
   "outputs": [
    {
     "name": "stderr",
     "output_type": "stream",
     "text": [
      "Downloading dataset from http://people.csail.mit.edu/jrennie/20Newsgroups/20news-bydate.tar.gz (14 MB)\n"
     ]
    },
    {
     "name": "stdout",
     "output_type": "stream",
     "text": [
      "features shape: (11314, 130107)\n",
      "target shape: (11314,)\n",
      "range of target: 0 19\n",
      "Data type is <class 'scipy.sparse.csr.csr_matrix'> 0.1214353154362896 % of the data is non-zero\n"
     ]
    }
   ],
   "source": [
    "from sklearn.datasets import fetch_20newsgroups_vectorized\n",
    "import numpy as np\n",
    "from __future__ import print_function\n",
    "\n",
    "# this takes about 30 seconds to compute, read the next section while this downloads\n",
    "ds = fetch_20newsgroups_vectorized(subset='train')\n",
    "\n",
    "# this holds the continuous feature data (which is tfidf)\n",
    "print('features shape:', ds.data.shape) # there are ~11000 instances and ~130k features per instance\n",
    "print('target shape:', ds.target.shape) \n",
    "print('range of target:', np.min(ds.target),np.max(ds.target))\n",
    "print('Data type is', type(ds.data), float(ds.data.nnz)/(ds.data.shape[0]*ds.data.shape[1])*100, '% of the data is non-zero')"
   ]
  },
  {
   "cell_type": "markdown",
   "metadata": {},
   "source": [
    "## Understanding the Dataset\n",
    "Look at the description for the 20 newsgroups dataset at http://qwone.com/~jason/20Newsgroups/. You have just downloaded the \"vectorized\" version of the dataset, which means all the words inside the articles have gone through a transformation that binned them into 130 thousand features related to the words in them.  \n",
    "\n",
    "**Question Set 1**:\n",
    "- How many instances are in the dataset? \n",
    "- What does each instance represent? \n",
    "- How many classes are in the dataset and what does each class represent?\n",
    "- Would you expect a classifier trained on this data would generalize to documents written in the past week? Why or why not?\n",
    "- Is the data represented as a sparse or dense matrix?"
   ]
  },
  {
   "cell_type": "markdown",
   "metadata": {},
   "source": [
    "####Answers\n",
    "* Number of instances in the dataset: 11314\n",
    "* Document\n",
    "* 20\n",
    "* If it's literature content it would not change much and the model could work. However if the content was technology, medicine or politics there will be new words not used before. It depedends on the type of document.\n",
    "* Sparse Data\n",
    "\n",
    "\n",
    "\n"
   ]
  },
  {
   "cell_type": "markdown",
   "metadata": {},
   "source": [
    "___\n",
    "<a id=\"distance\"></a>\n",
    "<a href=\"#top\">Back to Top</a>\n",
    "## Measures of Distance\n",
    "In the following block of code, we isolate three instances from the dataset. The instance \"`a`\" is from the group *computer graphics*, \"`b`\" is from from the group *recreation autos*, and \"`c`\" is from group *recreation motorcycle*. **Exercise for part 2**: Calculate the: \n",
    "- (1) Euclidean distance\n",
    "- (2) Cosine distance \n",
    "- (3) Jaccard similarity \n",
    "\n",
    "between each pair of instances using the imported functions below. Remember that the Jaccard similarity is only for binary valued vectors, so convert vectors to binary using a threshold. \n",
    "\n",
    "**Question for part 2**: Which distance seems more appropriate to use for this data? **Why**?"
   ]
  },
  {
   "cell_type": "code",
   "execution_count": 7,
   "metadata": {},
   "outputs": [
    {
     "name": "stdout",
     "output_type": "stream",
     "text": [
      "Instance A is from class comp.graphics\n",
      "Instance B is from class rec.autos\n",
      "Instance C is from class rec.motorcycles\n",
      "Euclidean Distance\n",
      " ab: 1.0985184671870858 ac: 1.1891405425398234 bc: 0.9177794226661624\n",
      "Cosine Distance\n",
      " ab: 0.603371411376 ac: 0.707027614956 bc: 0.421159534335\n",
      "Jaccard Dissimilarity (vectors should be boolean values)\n",
      " ab: 0.882113821138 ac: 0.875471698113 bc: 0.908794788274\n",
      "\n",
      "\n",
      "The most appropraite distance is...\n",
      "Cosine. It clearly delineates between topics effectively. B and C are closest (by far),\n",
      "and A is about the same distance from B and C. Euclidean also works well, but not quite as good as \"cosine\"\n"
     ]
    }
   ],
   "source": [
    "from scipy.spatial.distance import cosine\n",
    "from scipy.spatial.distance import euclidean\n",
    "from scipy.spatial.distance import jaccard\n",
    "import numpy as np\n",
    "\n",
    "# get first instance (comp)\n",
    "idx = 550\n",
    "a = ds.data[idx].todense()\n",
    "a_class = ds.target_names[ds.target[idx]]\n",
    "print('Instance A is from class', a_class)\n",
    "\n",
    "# get second instance (autos)\n",
    "idx = 4000\n",
    "b = ds.data[idx].todense()\n",
    "b_class = ds.target_names[ds.target[idx]]\n",
    "print('Instance B is from class', b_class)\n",
    "\n",
    "# get third instance (motorcycle)\n",
    "idx = 7000\n",
    "c = ds.data[idx].todense()\n",
    "c_class = ds.target_names[ds.target[idx]]\n",
    "print('Instance C is from class', c_class)\n",
    "\n",
    "# Enter distance comparison below for each pair of vectors:\n",
    "print('Euclidean Distance\\n ab:', euclidean(a,b), 'ac:', euclidean(a,c), 'bc:', euclidean(b,c))\n",
    "print('Cosine Distance\\n ab:', cosine(a,b), 'ac:', cosine(a,c), 'bc:', cosine(b,c))\n",
    "print('Jaccard Dissimilarity (vectors should be boolean values)\\n ab:', jaccard(a>0,b>0), 'ac:', jaccard(a>0,c>0), 'bc:', jaccard(b>0,c>0))\n",
    "\n",
    "print('\\n\\nThe most appropraite distance is...') \n",
    "print('Cosine. It clearly delineates between topics effectively. B and C are closest (by far),',)\n",
    "print('and A is about the same distance from B and C. Euclidean also works well, but not quite as good as \"cosine\"')\n"
   ]
  },
  {
   "cell_type": "markdown",
   "metadata": {},
   "source": [
    "___\n",
    "# Start of Live Session Assignment\n",
    "___\n",
    "<a id=\"KNN\"></a>\n",
    "<a href=\"#top\">Back to Top</a>\n",
    "## Using scikit-learn with KNN\n",
    "Now let's use stratified cross validation with a holdout set to train a KNN model in `scikit-learn`. Use the example below to train a KNN classifier. The documentation for `KNeighborsClassifier` is here: http://scikit-learn.org/stable/modules/generated/sklearn.neighbors.KNeighborsClassifier.html  \n",
    "\n",
    "**Exercise for part 3**: Use the code below to test what value of `n_neighbors` works best for the given data. *Note: do NOT change the metric to be anything other than `'euclidean'`. Other distance functions are not optimized for the amount of data we are working with.* \n",
    "\n",
    "**Question for part 3**: What is the accuracy of the best classifier you can create for this data (by changing only the `n_neighbors` parameter)? "
   ]
  },
  {
   "cell_type": "code",
   "execution_count": 9,
   "metadata": {},
   "outputs": [
    {
     "name": "stdout",
     "output_type": "stream",
     "text": [
      "Accuracy of classifier with 1 neighbors is: 0.59\n",
      "Accuracy of classifier with 2 neighbors is: 0.54\n",
      "Accuracy of classifier with 3 neighbors is: 0.52\n",
      "Accuracy of classifier with 4 neighbors is: 0.51\n",
      "Accuracy of classifier with 5 neighbors is: 0.49\n",
      "Accuracy of classifier with 6 neighbors is: 0.48\n",
      "Accuracy of classifier with 7 neighbors is: 0.47\n",
      "Accuracy of classifier with 8 neighbors is: 0.46\n",
      "Accuracy of classifier with 9 neighbors is: 0.46\n",
      "Accuracy of classifier with 10 neighbors is: 0.45\n",
      "Accuracy of classifier with 11 neighbors is: 0.44\n",
      "Accuracy of classifier with 12 neighbors is: 0.43\n",
      "Accuracy of classifier with 13 neighbors is: 0.43\n",
      "Accuracy of classifier with 14 neighbors is: 0.42\n",
      "Accuracy of classifier with 15 neighbors is: 0.42\n",
      "Accuracy of classifier with 16 neighbors is: 0.41\n",
      "Accuracy of classifier with 17 neighbors is: 0.41\n",
      "Accuracy of classifier with 18 neighbors is: 0.40\n",
      "Accuracy of classifier with 19 neighbors is: 0.40\n"
     ]
    }
   ],
   "source": [
    "from sklearn.cross_validation import StratifiedShuffleSplit\n",
    "from sklearn.neighbors import KNeighborsClassifier\n",
    "from sklearn.metrics import accuracy_score\n",
    "from IPython.html import widgets \n",
    "\n",
    "cv = StratifiedShuffleSplit(ds.target, n_iter = 1, test_size = 0.5, train_size=0.5)\n",
    "\n",
    "# fill in the training and testing data and save as separate variables\n",
    "for trainidx, testidx in cv:\n",
    "    # note that these are sparse matrices\n",
    "    X_train = ds.data[trainidx] \n",
    "    X_test = ds.data[testidx] \n",
    "    y_train = ds.target[trainidx]\n",
    "    y_test = ds.target[testidx]\n",
    "\n",
    "    \n",
    "# fill in your code  here to train and test\n",
    "\n",
    "# calculate the accuracy and print it for various values of K\n",
    "for K in range(1,20):\n",
    "    clf = KNeighborsClassifier(n_neighbors=K, weights='uniform', metric='euclidean')\n",
    "    clf.fit(X_train,y_train)\n",
    "    prediction = clf.predict(X_test)\n",
    "    acc = accuracy_score(y_test, prediction)\n",
    "    print('Accuracy of classifier with %d neighbors is: %.2f'%(K,acc))\n"
   ]
  },
  {
   "cell_type": "markdown",
   "metadata": {},
   "source": [
    "The best accuracy is .59 with 1 neighbors."
   ]
  },
  {
   "cell_type": "markdown",
   "metadata": {},
   "source": [
    "**Question for part 3**: With sparse data, does the use of a KDTree representation make sense? Why or Why not?"
   ]
  },
  {
   "cell_type": "markdown",
   "metadata": {},
   "source": [
    "Enter your answer below:\n",
    "\n",
    "KDTree representation does not make sense with sparse data because most of the data points will be on one side. For example in this case we're only evaluating less than 1% of the data. \n"
   ]
  },
  {
   "cell_type": "markdown",
   "metadata": {
    "collapsed": true
   },
   "source": [
    "_____\n",
    "## KNN extensions - Centroids\n",
    "Now lets look at a very closely related classifier to KNN, called nearest centroid. In this classifier (which is more appropriate for big data scenarios and sparse data), the training step is used to calculate the centroids for each class. These centroids are saved. Unknown attributes, at prediction time, only need to have distances calculated for each saved centroid, drastically decreasing the time required for a prediction. \n",
    "\n",
    "**Exercise for part 4**: Use the template code below to create a nearest centroid classifier. Test which metric has the best cross validated performance: Euclidean, Cosine, or Manhattan. In `scikit-learn` you can see the documentation for NearestCentroid here: \n",
    "- http://scikit-learn.org/stable/modules/generated/sklearn.neighbors.NearestCentroid.html#sklearn.neighbors.NearestCentroid\n",
    "\n",
    "and for supported distance metrics here:\n",
    "- http://scikit-learn.org/stable/modules/generated/sklearn.metrics.pairwise.distance_metrics.html#sklearn.metrics.pairwise.distance_metrics"
   ]
  },
  {
   "cell_type": "code",
   "execution_count": 14,
   "metadata": {},
   "outputs": [
    {
     "name": "stderr",
     "output_type": "stream",
     "text": [
      "/Users/alsabay/anaconda/lib/python3.6/site-packages/sklearn/neighbors/nearest_centroid.py:138: UserWarning: Averaging for metrics other than euclidean and manhattan not supported. The average is set to be the mean.\n",
      "  warnings.warn(\"Averaging for metrics other than \"\n"
     ]
    },
    {
     "name": "stdout",
     "output_type": "stream",
     "text": [
      "The acuracy for  l1  is : 0.307406752696\n",
      "The acuracy for  l2  is : 0.400742442991\n",
      "The acuracy for  cosine  is : 0.478345412763\n",
      "The best distance metric is:  cosine\n"
     ]
    }
   ],
   "source": [
    "from sklearn.neighbors.nearest_centroid import NearestCentroid\n",
    "best_acc = 0\n",
    "best_metrix = 'l1'\n",
    "# the parameters for the nearest centroid metric to test are:\n",
    "#    l1, l2, and cosine (all are optimized)\n",
    "for d in ['l1','l2','cosine']:\n",
    "    clf = NearestCentroid(metric=d)\n",
    "    clf.fit(X_train, y_train)\n",
    "    y_hat = clf.predict(X_test)\n",
    "    acc = accuracy_score(y_test,y_hat)\n",
    "    if acc> best_acc:\n",
    "        best_acc = acc\n",
    "        best_metrix=d\n",
    "    print('The acuracy for ', d, ' is :', acc)\n",
    "print('The best distance metric is: ', best_metrix)\n"
   ]
  },
  {
   "cell_type": "markdown",
   "metadata": {},
   "source": [
    "___\n",
    "<a id=\"naive\"></a>\n",
    "<a href=\"#top\">Back to Top</a>\n",
    "## Naive Bayes Classification\n",
    "Now let's look at the use of the Naive Bayes classifier. The 20 newsgroups dataset has 20 classes and about 130,000 features per instance. Recall that the Naive Bayes classifer calculates a posterior distribution for each possible class. Each posterior distribution is a multiplication of many conditional distributions: \n",
    "\n",
    "$${\\arg \\max}_{j} \\left(p(class=j)\\prod_{i} p(attribute=i|class=j) \\right)$$\n",
    "\n",
    "where $p(class=j)$ is the prior and $p(attribute=i|class=j)$ is the conditional probability.\n",
    "\n",
    "**Question for part 5**: With this many classes and features, how many different conditional probabilities need to be parameterized? How many priors need to be parameterized?"
   ]
  },
  {
   "cell_type": "markdown",
   "metadata": {},
   "source": [
    "Enter you answer here:\n",
    "\n",
    "There will be 2602140 conditional probabilities need to be parameterized. There will be 20 priors to be parametarized. \n"
   ]
  },
  {
   "cell_type": "markdown",
   "metadata": {},
   "source": [
    "20*130000 = 2602140\n"
   ]
  },
  {
   "cell_type": "markdown",
   "metadata": {},
   "source": [
    "___\n",
    "## Naive Bayes in Scikit-learn\n",
    "Scikit has several implementations of the Naive Bayes classifier: `GaussianNB`, `MultinomialNB`, and `BernoulliNB`. Look at the documentation here: http://scikit-learn.org/stable/modules/naive_bayes.html Take a look at each implementation and then answer this question: \n",
    "\n",
    "**Questions for part 6**: \n",
    "- If the instances contain mostly continuous attributes, would it be better to use Gaussian Naive Bayes, Multinomial Naive Bayes, or Bernoulli? And Why? \n",
    "- What if the data is sparse, does this change your answer? Why or Why not?"
   ]
  },
  {
   "cell_type": "markdown",
   "metadata": {},
   "source": [
    "#### Enter you answer here:\n",
    "\n",
    "* For continous attributes, Gaussian Naive Bayes is a good choice because it's based on normal distribution. Multinomial Naive Bayes is used mainly in cases where features are discrete counts and Gaussian Naive Bayes is used where features are continuos.\n",
    "* For sparse data, Multinomial or Bernoulli Naive Bayes will be better because the features simpler to evaluate (counting and binary) and will be more computationally efficient.\n",
    "___"
   ]
  },
  {
   "cell_type": "markdown",
   "metadata": {},
   "source": [
    "## Naive Bayes Comparison\n",
    "For the final section of this notebook let's compare the performance of Naive Bayes for document classification. Look at the parameters for `MultinomialNB`, and `BernoulliNB` (especially `alpha` and `binarize`). \n",
    "\n",
    "**Exercise for part 7**: Using the example code below, change the parameters for each classifier and see how accurate you can make the classifiers on the test set. \n",
    "\n",
    "**Question for part 7**: Why are these implementations so fast to train? What does the `'alpha'` value control in these models (*i.e.*, how does it change the parameterizations)? "
   ]
  },
  {
   "cell_type": "code",
   "execution_count": 29,
   "metadata": {},
   "outputs": [
    {
     "name": "stdout",
     "output_type": "stream",
     "text": [
      "0.701785398621 0.615167049673\n",
      "0.758882800071 0.682517235284\n",
      "0.830475517059 0.784161216192\n",
      "0.890931589182 0.843026339049\n",
      "\n",
      "The last iteration using alpha of 0.001 and binarize = 0.002 is most accurate\n",
      "\n",
      "These classifiers are so fast because... These classifiers are fast because there is no iteration required. For Bernoulli, it decides on a yes or no basis for example whether a word is in the document on not. For Multinomial, it is just a question of further counting how many times that word occurred. The parameters of the model for a Naive Bayes classifier are priors and conditional probabilities. This mainly involve just counting and division operations. On modern computers this is a very fast process. And hence naive bayes is overall fast.\n",
      "\n",
      "The alpha values control... Multinomial Naive Bayes and Bernoulli Naive Bayes have a parameter alpha that controls the model complexity. The value of alpha adds alpha virtual points that have positive values for all the features. This helps in smoothing of the statistics. The large alpha means more smoothing, resulting in less complex model. Tunning the alpha usually improves the accuracy of the fit.\n"
     ]
    }
   ],
   "source": [
    "from sklearn.naive_bayes import MultinomialNB\n",
    "from sklearn.naive_bayes import BernoulliNB\n",
    "\n",
    "\n",
    "clf_mnb = MultinomialNB(alpha=1.0)\n",
    "y_hat_mnb = clf_mnb.fit(X_train, y_train).predict(X_test)\n",
    "clf_bnb = BernoulliNB(alpha=1.0, binarize=0.0)\n",
    "y_hat_bnb = clf_bnb.fit(X_train, y_train).predict(X_test)\n",
    "# fill in your code here\n",
    "acc_mnb = accuracy_score(y_test,y_hat_mnb)\n",
    "acc_bnb = accuracy_score(y_test,y_hat_bnb)\n",
    "print(acc_mnb, acc_bnb)\n",
    "\n",
    "clf_mnb = MultinomialNB(alpha=0.5)\n",
    "y_hat_mnb = clf_mnb.fit(X_train, y_train).predict(X_test)\n",
    "clf_bnb = BernoulliNB(alpha=0.5, binarize=0.0)\n",
    "y_hat_bnb = clf_bnb.fit(X_train, y_train).predict(X_test)\n",
    "# fill in your code here\n",
    "acc_mnb = accuracy_score(y_test,y_hat_mnb)\n",
    "acc_bnb = accuracy_score(y_test,y_hat_bnb)\n",
    "print(acc_mnb, acc_bnb)\n",
    "\n",
    "clf_mnb = MultinomialNB(alpha=0.1)\n",
    "y_hat_mnb = clf_mnb.fit(X_train, y_train).predict(X_test)\n",
    "clf_bnb = BernoulliNB(alpha=0.1, binarize=0.0)\n",
    "y_hat_bnb = clf_bnb.fit(X_train, y_train).predict(X_test)\n",
    "# fill in your code here\n",
    "acc_mnb = accuracy_score(y_test,y_hat_mnb)\n",
    "acc_bnb = accuracy_score(y_test,y_hat_bnb)\n",
    "print(acc_mnb, acc_bnb)\n",
    "\n",
    "clf_mnb = MultinomialNB(alpha=0.001)\n",
    "y_hat_mnb = clf_mnb.fit(X_train, y_train).predict(X_test)\n",
    "clf_bnb = BernoulliNB(alpha=0.001, binarize=0.002)\n",
    "y_hat_bnb = clf_bnb.fit(X_train, y_train).predict(X_test)\n",
    "# fill in your code here\n",
    "acc_mnb = accuracy_score(y_test,y_hat_mnb)\n",
    "acc_bnb = accuracy_score(y_test,y_hat_bnb)\n",
    "print(acc_mnb, acc_bnb)\n",
    "print('')\n",
    "print('The last iteration using alpha of 0.001 and binarize = 0.002 is most accurate')\n",
    "print('')\n",
    "p = 'These classifiers are fast because there is no iteration required. For Bernoulli, it decides on a yes or no basis for example whether a word is in the document on not. For Multinomial, it is just a question of further counting how many times that word occurred. The parameters of the model for a Naive Bayes classifier are priors and conditional probabilities. This mainly involve just counting and division operations. On modern computers this is a very fast process. And hence naive bayes is overall fast.'\n",
    "p2 = 'Multinomial Naive Bayes and Bernoulli Naive Bayes have a parameter alpha that controls the model complexity. The value of alpha adds alpha virtual points that have positive values for all the features. This helps in smoothing of the statistics. The large alpha means more smoothing, resulting in less complex model. Tunning the alpha usually improves the accuracy of the fit.'\n",
    "print('These classifiers are so fast because...', p  )\n",
    "print('')\n",
    "print('The alpha values control...', p2)"
   ]
  },
  {
   "cell_type": "markdown",
   "metadata": {
    "collapsed": true
   },
   "source": [
    "These classifiers are fast because there's no iteration required. For Bernoulli, it decides on a yes or no basis for example whether a word is in the document on not. For Multinomial, it is just a question of further counting how many times that word occurred. The parameters of the model for a Naive Bayes classifier are priors and conditional probabilities. This mainly involve just counting and division operations. On modern computers this is a very fast process. And hence naive bayes is overall fast."
   ]
  },
  {
   "cell_type": "markdown",
   "metadata": {
    "collapsed": true
   },
   "source": [
    "________________________________________________________________________________________________________\n",
    "\n",
    "That's all! Please **upload your rendered notebook to blackboard** and please include **team member names** in the notebook submission."
   ]
  },
  {
   "cell_type": "code",
   "execution_count": null,
   "metadata": {
    "collapsed": true
   },
   "outputs": [],
   "source": []
  }
 ],
 "metadata": {
  "kernelspec": {
   "display_name": "Python 3",
   "language": "python",
   "name": "python3"
  },
  "language_info": {
   "codemirror_mode": {
    "name": "ipython",
    "version": 3
   },
   "file_extension": ".py",
   "mimetype": "text/x-python",
   "name": "python",
   "nbconvert_exporter": "python",
   "pygments_lexer": "ipython3",
   "version": "3.6.8"
  }
 },
 "nbformat": 4,
 "nbformat_minor": 1
}
